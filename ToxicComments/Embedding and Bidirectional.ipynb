{
 "cells": [
  {
   "cell_type": "code",
   "execution_count": 19,
   "id": "8cd03c3a",
   "metadata": {},
   "outputs": [],
   "source": [
    "import pandas as pd\n",
    "import numpy as np\n",
    "\n",
    "import tensorflow as tf\n",
    "from tensorflow import keras\n",
    "from keras import layers, models\n",
    "from keras.layers import Flatten, Dense, Embedding, LSTM, Bidirectional, Dropout\n",
    "from keras.models import Sequential\n",
    "\n",
    "from keras.preprocessing.text import Tokenizer\n",
    "from keras import preprocessing\n",
    "\n",
    "import matplotlib.pyplot as plt"
   ]
  },
  {
   "cell_type": "code",
   "execution_count": 20,
   "id": "1401fe14",
   "metadata": {},
   "outputs": [],
   "source": [
    "import os\n",
    "os.environ['TF_CPP_MIN_LOG_LEVEL'] = '3' "
   ]
  },
  {
   "cell_type": "code",
   "execution_count": 21,
   "id": "977b26c2",
   "metadata": {},
   "outputs": [],
   "source": [
    "df_train = pd.read_csv('train.csv')\n",
    "df_test = pd.read_csv('test.csv')"
   ]
  },
  {
   "cell_type": "code",
   "execution_count": 22,
   "id": "3fd8647d",
   "metadata": {},
   "outputs": [],
   "source": [
    "NUM_WORDS = 1000\n",
    "MAX_LEN = 50\n",
    "NUM_FEATURES = 6"
   ]
  },
  {
   "cell_type": "code",
   "execution_count": 23,
   "id": "418a6cf4",
   "metadata": {},
   "outputs": [],
   "source": [
    "# находим 1000 наиболее встречающихся слов и индексируем их\n",
    "\n",
    "tokenizer = Tokenizer(num_words=NUM_WORDS)\n",
    "tokenizer.fit_on_texts(df_train['comment_text'])\n",
    "\n",
    "\n",
    "# получаем последовательность индексов из исходных комментариев\n",
    "\n",
    "sequences_train = tokenizer.texts_to_sequences(df_train['comment_text'])\n",
    "sequences_test = tokenizer.texts_to_sequences(df_test['comment_text'])"
   ]
  },
  {
   "cell_type": "code",
   "execution_count": 24,
   "id": "7eed4338",
   "metadata": {},
   "outputs": [],
   "source": [
    "# берем только первые NUM_WORDS слов комментария\n",
    "\n",
    "x_train = preprocessing.sequence.pad_sequences(sequences_train, maxlen=MAX_LEN)\n",
    "x_test = preprocessing.sequence.pad_sequences(sequences_test, maxlen=MAX_LEN)\n",
    "\n",
    "ans_columns = df_train.columns[2:]\n",
    "y_train = df_train[ans_columns].values"
   ]
  },
  {
   "cell_type": "code",
   "execution_count": 25,
   "id": "36b6f624",
   "metadata": {},
   "outputs": [],
   "source": [
    "# строим однослойную линейную модель\n",
    "\n",
    "model = Sequential()\n",
    "model.add(Embedding(NUM_WORDS + 1, 16, input_length=MAX_LEN))\n",
    "# model.add(Dropout(0.1))\n",
    "model.add(Bidirectional(LSTM(16)))\n",
    "model.add(Dense(NUM_FEATURES, activation='sigmoid'))\n",
    "\n",
    "model.compile(optimizer='rmsprop', loss='binary_crossentropy', metrics=['acc'])"
   ]
  },
  {
   "cell_type": "code",
   "execution_count": 26,
   "id": "552021aa",
   "metadata": {},
   "outputs": [],
   "source": [
    "\n",
    "model.compile(optimizer='rmsprop', loss='binary_crossentropy', metrics=['acc'])"
   ]
  },
  {
   "cell_type": "code",
   "execution_count": 27,
   "id": "42483e51",
   "metadata": {},
   "outputs": [
    {
     "name": "stdout",
     "output_type": "stream",
     "text": [
      "Epoch 1/10\n",
      "1995/1995 [==============================] - 9s 4ms/step - loss: 0.0927 - acc: 0.9917 - val_loss: 0.0693 - val_acc: 0.9941\n",
      "Epoch 2/10\n",
      "1995/1995 [==============================] - 7s 4ms/step - loss: 0.0685 - acc: 0.9940 - val_loss: 0.0716 - val_acc: 0.9941\n",
      "Epoch 3/10\n",
      "1995/1995 [==============================] - 7s 3ms/step - loss: 0.0666 - acc: 0.9940 - val_loss: 0.0650 - val_acc: 0.9941\n",
      "Epoch 4/10\n",
      "1995/1995 [==============================] - 7s 4ms/step - loss: 0.0655 - acc: 0.9942 - val_loss: 0.0689 - val_acc: 0.9941\n",
      "Epoch 5/10\n",
      "1995/1995 [==============================] - 7s 4ms/step - loss: 0.0647 - acc: 0.9942 - val_loss: 0.0648 - val_acc: 0.9941\n",
      "Epoch 6/10\n",
      "1995/1995 [==============================] - 7s 3ms/step - loss: 0.0641 - acc: 0.9942 - val_loss: 0.0655 - val_acc: 0.9941\n",
      "Epoch 7/10\n",
      "1995/1995 [==============================] - 7s 4ms/step - loss: 0.0635 - acc: 0.9942 - val_loss: 0.0639 - val_acc: 0.9941\n",
      "Epoch 8/10\n",
      "1995/1995 [==============================] - 7s 4ms/step - loss: 0.0630 - acc: 0.9940 - val_loss: 0.0635 - val_acc: 0.9941\n",
      "Epoch 9/10\n",
      "1995/1995 [==============================] - 7s 3ms/step - loss: 0.0625 - acc: 0.9939 - val_loss: 0.0635 - val_acc: 0.9941\n",
      "Epoch 10/10\n",
      "1995/1995 [==============================] - 7s 4ms/step - loss: 0.0621 - acc: 0.9938 - val_loss: 0.0637 - val_acc: 0.9941\n"
     ]
    }
   ],
   "source": [
    "history = model.fit(x_train, y_train, epochs=10, batch_size=64, validation_split=0.2)"
   ]
  },
  {
   "cell_type": "code",
   "execution_count": 28,
   "id": "8158781c",
   "metadata": {},
   "outputs": [
    {
     "name": "stdout",
     "output_type": "stream",
     "text": [
      "Model: \"sequential_2\"\n",
      "_________________________________________________________________\n",
      " Layer (type)                Output Shape              Param #   \n",
      "=================================================================\n",
      " embedding_2 (Embedding)     (None, 50, 16)            16016     \n",
      "                                                                 \n",
      " bidirectional_2 (Bidirectio  (None, 32)               4224      \n",
      " nal)                                                            \n",
      "                                                                 \n",
      " dense_2 (Dense)             (None, 6)                 198       \n",
      "                                                                 \n",
      "=================================================================\n",
      "Total params: 20,438\n",
      "Trainable params: 20,438\n",
      "Non-trainable params: 0\n",
      "_________________________________________________________________\n"
     ]
    }
   ],
   "source": [
    "model.summary()"
   ]
  },
  {
   "cell_type": "code",
   "execution_count": 29,
   "id": "5cc1c4f1",
   "metadata": {},
   "outputs": [
    {
     "data": {
      "text/plain": [
       "[<matplotlib.lines.Line2D at 0x7fea85f31870>]"
      ]
     },
     "execution_count": 29,
     "metadata": {},
     "output_type": "execute_result"
    },
    {
     "data": {
      "image/png": "[encoded data removed]",
      "text/plain": [
       "<Figure size 432x288 with 1 Axes>"
      ]
     },
     "metadata": {
      "needs_background": "light"
     },
     "output_type": "display_data"
    }
   ],
   "source": [
    "acc = history.history['acc']\n",
    "val_acc = history.history['val_acc']\n",
    "loss = history.history['loss']\n",
    "val_loss = history.history['val_loss']\n",
    "\n",
    "epochs = range(1, len(acc) + 1)\n",
    "\n",
    "plt.plot(epochs, acc, 'bo', label='Training acc')\n",
    "plt.plot(epochs, val_acc, 'b', label='Validation acc')"
   ]
  },
  {
   "cell_type": "code",
   "execution_count": 30,
   "id": "7066b034",
   "metadata": {},
   "outputs": [],
   "source": [
    "results = model.predict(x_test, batch_size=64)"
   ]
  },
  {
   "cell_type": "code",
   "execution_count": 31,
   "id": "f9aaf93f",
   "metadata": {},
   "outputs": [
    {
     "data": {
      "text/plain": [
       "array([[9.7857076e-01, 1.2334431e-01, 8.9805079e-01, 1.4636797e-02,\n",
       "        7.9250783e-01, 8.9399040e-02],\n",
       "       [9.7430628e-03, 6.5970940e-05, 2.2959295e-03, 4.2202355e-05,\n",
       "        2.3816617e-03, 2.7702708e-04],\n",
       "       [4.1579809e-03, 6.3349959e-05, 1.8113324e-03, 3.3230481e-05,\n",
       "        1.2526375e-03, 1.4991344e-04],\n",
       "       ...,\n",
       "       [2.5906663e-03, 2.5069106e-05, 9.8051783e-04, 1.8816774e-05,\n",
       "        8.9870836e-04, 1.1483992e-04],\n",
       "       [1.6542901e-03, 1.2357947e-05, 6.4606935e-04, 8.1004619e-06,\n",
       "        3.9123383e-04, 5.8272977e-05],\n",
       "       [9.2274445e-01, 1.8880328e-02, 7.5854248e-01, 1.9159639e-03,\n",
       "        4.3513432e-01, 2.5336958e-02]], dtype=float32)"
      ]
     },
     "execution_count": 31,
     "metadata": {},
     "output_type": "execute_result"
    }
   ],
   "source": [
    "results"
   ]
  },
  {
   "cell_type": "code",
   "execution_count": 32,
   "id": "9e5dfa87",
   "metadata": {},
   "outputs": [],
   "source": [
    "df_ans = pd.DataFrame(results, columns=ans_columns)"
   ]
  },
  {
   "cell_type": "code",
   "execution_count": 33,
   "id": "414071c9",
   "metadata": {},
   "outputs": [
    {
     "data": {
      "text/html": [
       "<div>\n",
       "<style scoped>\n",
       "    .dataframe tbody tr th:only-of-type {\n",
       "        vertical-align: middle;\n",
       "    }\n",
       "\n",
       "    .dataframe tbody tr th {\n",
       "        vertical-align: top;\n",
       "    }\n",
       "\n",
       "    .dataframe thead th {\n",
       "        text-align: right;\n",
       "    }\n",
       "</style>\n",
       "<table border=\"1\" class=\"dataframe\">\n",
       "  <thead>\n",
       "    <tr style=\"text-align: right;\">\n",
       "      <th></th>\n",
       "      <th>toxic</th>\n",
       "      <th>severe_toxic</th>\n",
       "      <th>obscene</th>\n",
       "      <th>threat</th>\n",
       "      <th>insult</th>\n",
       "      <th>identity_hate</th>\n",
       "    </tr>\n",
       "    <tr>\n",
       "      <th>id</th>\n",
       "      <th></th>\n",
       "      <th></th>\n",
       "      <th></th>\n",
       "      <th></th>\n",
       "      <th></th>\n",
       "      <th></th>\n",
       "    </tr>\n",
       "  </thead>\n",
       "  <tbody>\n",
       "    <tr>\n",
       "      <th>00001cee341fdb12</th>\n",
       "      <td>0.978571</td>\n",
       "      <td>0.123344</td>\n",
       "      <td>0.898051</td>\n",
       "      <td>0.014637</td>\n",
       "      <td>0.792508</td>\n",
       "      <td>0.089399</td>\n",
       "    </tr>\n",
       "    <tr>\n",
       "      <th>0000247867823ef7</th>\n",
       "      <td>0.009743</td>\n",
       "      <td>0.000066</td>\n",
       "      <td>0.002296</td>\n",
       "      <td>0.000042</td>\n",
       "      <td>0.002382</td>\n",
       "      <td>0.000277</td>\n",
       "    </tr>\n",
       "    <tr>\n",
       "      <th>00013b17ad220c46</th>\n",
       "      <td>0.004158</td>\n",
       "      <td>0.000063</td>\n",
       "      <td>0.001811</td>\n",
       "      <td>0.000033</td>\n",
       "      <td>0.001253</td>\n",
       "      <td>0.000150</td>\n",
       "    </tr>\n",
       "    <tr>\n",
       "      <th>00017563c3f7919a</th>\n",
       "      <td>0.003558</td>\n",
       "      <td>0.000015</td>\n",
       "      <td>0.001265</td>\n",
       "      <td>0.000008</td>\n",
       "      <td>0.001108</td>\n",
       "      <td>0.000067</td>\n",
       "    </tr>\n",
       "    <tr>\n",
       "      <th>00017695ad8997eb</th>\n",
       "      <td>0.047349</td>\n",
       "      <td>0.000576</td>\n",
       "      <td>0.009314</td>\n",
       "      <td>0.000496</td>\n",
       "      <td>0.012118</td>\n",
       "      <td>0.002132</td>\n",
       "    </tr>\n",
       "    <tr>\n",
       "      <th>...</th>\n",
       "      <td>...</td>\n",
       "      <td>...</td>\n",
       "      <td>...</td>\n",
       "      <td>...</td>\n",
       "      <td>...</td>\n",
       "      <td>...</td>\n",
       "    </tr>\n",
       "    <tr>\n",
       "      <th>fffcd0960ee309b5</th>\n",
       "      <td>0.025170</td>\n",
       "      <td>0.000167</td>\n",
       "      <td>0.008485</td>\n",
       "      <td>0.000088</td>\n",
       "      <td>0.004751</td>\n",
       "      <td>0.000442</td>\n",
       "    </tr>\n",
       "    <tr>\n",
       "      <th>fffd7a9a6eb32c16</th>\n",
       "      <td>0.026806</td>\n",
       "      <td>0.000095</td>\n",
       "      <td>0.007056</td>\n",
       "      <td>0.000044</td>\n",
       "      <td>0.006211</td>\n",
       "      <td>0.000452</td>\n",
       "    </tr>\n",
       "    <tr>\n",
       "      <th>fffda9e8d6fafa9e</th>\n",
       "      <td>0.002591</td>\n",
       "      <td>0.000025</td>\n",
       "      <td>0.000981</td>\n",
       "      <td>0.000019</td>\n",
       "      <td>0.000899</td>\n",
       "      <td>0.000115</td>\n",
       "    </tr>\n",
       "    <tr>\n",
       "      <th>fffe8f1340a79fc2</th>\n",
       "      <td>0.001654</td>\n",
       "      <td>0.000012</td>\n",
       "      <td>0.000646</td>\n",
       "      <td>0.000008</td>\n",
       "      <td>0.000391</td>\n",
       "      <td>0.000058</td>\n",
       "    </tr>\n",
       "    <tr>\n",
       "      <th>ffffce3fb183ee80</th>\n",
       "      <td>0.922744</td>\n",
       "      <td>0.018880</td>\n",
       "      <td>0.758542</td>\n",
       "      <td>0.001916</td>\n",
       "      <td>0.435134</td>\n",
       "      <td>0.025337</td>\n",
       "    </tr>\n",
       "  </tbody>\n",
       "</table>\n",
       "<p>153164 rows × 6 columns</p>\n",
       "</div>"
      ],
      "text/plain": [
       "                     toxic  severe_toxic   obscene    threat    insult  \\\n",
       "id                                                                       \n",
       "00001cee341fdb12  0.978571      0.123344  0.898051  0.014637  0.792508   \n",
       "0000247867823ef7  0.009743      0.000066  0.002296  0.000042  0.002382   \n",
       "00013b17ad220c46  0.004158      0.000063  0.001811  0.000033  0.001253   \n",
       "00017563c3f7919a  0.003558      0.000015  0.001265  0.000008  0.001108   \n",
       "00017695ad8997eb  0.047349      0.000576  0.009314  0.000496  0.012118   \n",
       "...                    ...           ...       ...       ...       ...   \n",
       "fffcd0960ee309b5  0.025170      0.000167  0.008485  0.000088  0.004751   \n",
       "fffd7a9a6eb32c16  0.026806      0.000095  0.007056  0.000044  0.006211   \n",
       "fffda9e8d6fafa9e  0.002591      0.000025  0.000981  0.000019  0.000899   \n",
       "fffe8f1340a79fc2  0.001654      0.000012  0.000646  0.000008  0.000391   \n",
       "ffffce3fb183ee80  0.922744      0.018880  0.758542  0.001916  0.435134   \n",
       "\n",
       "                  identity_hate  \n",
       "id                               \n",
       "00001cee341fdb12       0.089399  \n",
       "0000247867823ef7       0.000277  \n",
       "00013b17ad220c46       0.000150  \n",
       "00017563c3f7919a       0.000067  \n",
       "00017695ad8997eb       0.002132  \n",
       "...                         ...  \n",
       "fffcd0960ee309b5       0.000442  \n",
       "fffd7a9a6eb32c16       0.000452  \n",
       "fffda9e8d6fafa9e       0.000115  \n",
       "fffe8f1340a79fc2       0.000058  \n",
       "ffffce3fb183ee80       0.025337  \n",
       "\n",
       "[153164 rows x 6 columns]"
      ]
     },
     "execution_count": 33,
     "metadata": {},
     "output_type": "execute_result"
    }
   ],
   "source": [
    "df_ans.index = df_test['id']\n",
    "df_ans"
   ]
  },
  {
   "cell_type": "code",
   "execution_count": 34,
   "id": "ee786e76",
   "metadata": {},
   "outputs": [],
   "source": [
    "df_ans.to_csv('ans1.csv')"
   ]
  },
  {
   "cell_type": "code",
   "execution_count": null,
   "id": "1f650ec0",
   "metadata": {},
   "outputs": [],
   "source": []
  }
 ],
 "metadata": {
  "kernelspec": {
   "display_name": "Python 3 (ipykernel)",
   "language": "python",
   "name": "python3"
  },
  "language_info": {
   "codemirror_mode": {
    "name": "ipython",
    "version": 3
   },
   "file_extension": ".py",
   "mimetype": "text/x-python",
   "name": "python",
   "nbconvert_exporter": "python",
   "pygments_lexer": "ipython3",
   "version": "3.10.1"
  }
 },
 "nbformat": 4,
 "nbformat_minor": 5
}
