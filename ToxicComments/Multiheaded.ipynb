{
 "cells": [
  {
   "cell_type": "code",
   "execution_count": 1,
   "id": "1d04236b",
   "metadata": {},
   "outputs": [],
   "source": [
    "import pandas as pd\n",
    "import numpy as np\n",
    "\n",
    "import tensorflow as tf\n",
    "from tensorflow import keras\n",
    "from keras import layers, models\n",
    "from keras.models import Sequential\n",
    "\n",
    "from keras.preprocessing.text import Tokenizer\n",
    "from keras import preprocessing\n",
    "\n",
    "import matplotlib.pyplot as plt"
   ]
  },
  {
   "cell_type": "code",
   "execution_count": 2,
   "id": "ae6f6da8",
   "metadata": {},
   "outputs": [],
   "source": [
    "import os\n",
    "os.environ['TF_CPP_MIN_LOG_LEVEL'] = '3' "
   ]
  },
  {
   "cell_type": "code",
   "execution_count": 3,
   "id": "96ff7697",
   "metadata": {},
   "outputs": [],
   "source": [
    "physical_devices = tf.config.experimental.list_physical_devices('GPU')\n",
    "tf.config.experimental.set_memory_growth(physical_devices[0], enable=True)"
   ]
  },
  {
   "cell_type": "code",
   "execution_count": 4,
   "id": "5ac9d3cc",
   "metadata": {},
   "outputs": [],
   "source": [
    "df_train = pd.read_csv('train.csv')\n",
    "df_test = pd.read_csv('test.csv')"
   ]
  },
  {
   "cell_type": "code",
   "execution_count": 5,
   "id": "2bc76319",
   "metadata": {},
   "outputs": [],
   "source": [
    "NUM_WORDS = 2000\n",
    "MAX_LEN = 50\n",
    "NUM_FEATURES = 6"
   ]
  },
  {
   "cell_type": "code",
   "execution_count": 6,
   "id": "30a98979",
   "metadata": {},
   "outputs": [],
   "source": [
    "tokenizer = Tokenizer(num_words=NUM_WORDS)\n",
    "tokenizer.fit_on_texts(df_train['comment_text'])\n",
    "\n",
    "sequences_train = tokenizer.texts_to_sequences(df_train['comment_text'])\n",
    "sequences_test = tokenizer.texts_to_sequences(df_test['comment_text'])"
   ]
  },
  {
   "cell_type": "code",
   "execution_count": 7,
   "id": "ce344b6f",
   "metadata": {},
   "outputs": [],
   "source": [
    "x_train = preprocessing.sequence.pad_sequences(sequences_train, maxlen=MAX_LEN)\n",
    "x_test = preprocessing.sequence.pad_sequences(sequences_test, maxlen=MAX_LEN)\n",
    "\n",
    "ans_columns = df_train.columns[2:]"
   ]
  },
  {
   "cell_type": "code",
   "execution_count": 8,
   "id": "163c9216",
   "metadata": {},
   "outputs": [],
   "source": [
    "input_layer = keras.Input(shape=(None,))\n",
    "x = layers.Embedding(NUM_WORDS + 1, 32, input_length=MAX_LEN)(input_layer)\n",
    "x = layers.Bidirectional(layers.GRU(32, dropout=0.2))(x)"
   ]
  },
  {
   "cell_type": "code",
   "execution_count": 9,
   "id": "9986041b",
   "metadata": {},
   "outputs": [],
   "source": [
    "outputs_layers = list()\n",
    "losses = list()\n",
    "y_train = list()\n",
    "for column in ans_columns:\n",
    "    output_layer = layers.Dense(1, activation = 'sigmoid')(x)\n",
    "    outputs_layers.append(output_layer)\n",
    "    y_train.append(df_train[column].values)\n",
    "    losses.append('binary_crossentropy')"
   ]
  },
  {
   "cell_type": "code",
   "execution_count": 10,
   "id": "b9abeb3b",
   "metadata": {},
   "outputs": [],
   "source": [
    "model = keras.Model(inputs=[input_layer], outputs=outputs_layers)"
   ]
  },
  {
   "cell_type": "code",
   "execution_count": 11,
   "id": "36331219",
   "metadata": {},
   "outputs": [],
   "source": [
    "model.compile(optimizer='rmsprop', loss=losses, metrics=['acc'])"
   ]
  },
  {
   "cell_type": "code",
   "execution_count": 17,
   "id": "e333b34b",
   "metadata": {},
   "outputs": [
    {
     "data": {
      "text/plain": [
       "array([[   0,    0,    0, ...,   73,   89,  985],\n",
       "       [   0,    0,    0, ...,  992,  589,  182],\n",
       "       [   0,    0,    0, ...,    1,  737,  468],\n",
       "       ...,\n",
       "       [   0,    0,    0, ...,  737,   23,   12],\n",
       "       [   0,    0,    0, ...,  151,   34,   11],\n",
       "       [   0,    0,    0, ...,    3, 1627,   88]], dtype=int32)"
      ]
     },
     "execution_count": 17,
     "metadata": {},
     "output_type": "execute_result"
    }
   ],
   "source": [
    "x_train"
   ]
  },
  {
   "cell_type": "code",
   "execution_count": 12,
   "id": "c57868d2",
   "metadata": {},
   "outputs": [
    {
     "name": "stdout",
     "output_type": "stream",
     "text": [
      "Epoch 1/20\n",
      "2494/2494 [==============================] - 19s 7ms/step - loss: 0.4474 - dense_loss: 0.1643 - dense_1_loss: 0.0330 - dense_2_loss: 0.0909 - dense_3_loss: 0.0195 - dense_4_loss: 0.1001 - dense_5_loss: 0.0396 - dense_acc: 0.9468 - dense_1_acc: 0.9897 - dense_2_acc: 0.9728 - dense_3_acc: 0.9966 - dense_4_acc: 0.9666 - dense_5_acc: 0.9905\n",
      "Epoch 2/20\n",
      "2494/2494 [==============================] - 17s 7ms/step - loss: 0.3572 - dense_loss: 0.1337 - dense_1_loss: 0.0253 - dense_2_loss: 0.0692 - dense_3_loss: 0.0146 - dense_4_loss: 0.0816 - dense_5_loss: 0.0328 - dense_acc: 0.9548 - dense_1_acc: 0.9903 - dense_2_acc: 0.9780 - dense_3_acc: 0.9970 - dense_4_acc: 0.9708 - dense_5_acc: 0.9912\n",
      "Epoch 3/20\n",
      "2494/2494 [==============================] - 17s 7ms/step - loss: 0.3467 - dense_loss: 0.1299 - dense_1_loss: 0.0247 - dense_2_loss: 0.0674 - dense_3_loss: 0.0137 - dense_4_loss: 0.0796 - dense_5_loss: 0.0314 - dense_acc: 0.9553 - dense_1_acc: 0.9905 - dense_2_acc: 0.9785 - dense_3_acc: 0.9970 - dense_4_acc: 0.9716 - dense_5_acc: 0.9912\n",
      "Epoch 4/20\n",
      "2494/2494 [==============================] - 17s 7ms/step - loss: 0.3414 - dense_loss: 0.1289 - dense_1_loss: 0.0244 - dense_2_loss: 0.0665 - dense_3_loss: 0.0133 - dense_4_loss: 0.0783 - dense_5_loss: 0.0300 - dense_acc: 0.9555 - dense_1_acc: 0.9905 - dense_2_acc: 0.9789 - dense_3_acc: 0.9970 - dense_4_acc: 0.9720 - dense_5_acc: 0.9915\n",
      "Epoch 5/20\n",
      "2494/2494 [==============================] - 17s 7ms/step - loss: 0.3383 - dense_loss: 0.1276 - dense_1_loss: 0.0244 - dense_2_loss: 0.0660 - dense_3_loss: 0.0129 - dense_4_loss: 0.0779 - dense_5_loss: 0.0295 - dense_acc: 0.9558 - dense_1_acc: 0.9907 - dense_2_acc: 0.9791 - dense_3_acc: 0.9970 - dense_4_acc: 0.9723 - dense_5_acc: 0.9917\n",
      "Epoch 6/20\n",
      "2494/2494 [==============================] - 17s 7ms/step - loss: 0.3355 - dense_loss: 0.1271 - dense_1_loss: 0.0242 - dense_2_loss: 0.0655 - dense_3_loss: 0.0123 - dense_4_loss: 0.0773 - dense_5_loss: 0.0290 - dense_acc: 0.9560 - dense_1_acc: 0.9906 - dense_2_acc: 0.9792 - dense_3_acc: 0.9970 - dense_4_acc: 0.9726 - dense_5_acc: 0.9918\n",
      "Epoch 7/20\n",
      "2494/2494 [==============================] - 18s 7ms/step - loss: 0.3316 - dense_loss: 0.1261 - dense_1_loss: 0.0240 - dense_2_loss: 0.0652 - dense_3_loss: 0.0113 - dense_4_loss: 0.0765 - dense_5_loss: 0.0285 - dense_acc: 0.9561 - dense_1_acc: 0.9909 - dense_2_acc: 0.9795 - dense_3_acc: 0.9971 - dense_4_acc: 0.9728 - dense_5_acc: 0.9920\n",
      "Epoch 8/20\n",
      "2494/2494 [==============================] - 20s 8ms/step - loss: 0.3294 - dense_loss: 0.1254 - dense_1_loss: 0.0240 - dense_2_loss: 0.0651 - dense_3_loss: 0.0108 - dense_4_loss: 0.0762 - dense_5_loss: 0.0278 - dense_acc: 0.9564 - dense_1_acc: 0.9907 - dense_2_acc: 0.9791 - dense_3_acc: 0.9972 - dense_4_acc: 0.9728 - dense_5_acc: 0.9921\n",
      "Epoch 9/20\n",
      "2494/2494 [==============================] - 17s 7ms/step - loss: 0.3287 - dense_loss: 0.1254 - dense_1_loss: 0.0239 - dense_2_loss: 0.0652 - dense_3_loss: 0.0107 - dense_4_loss: 0.0759 - dense_5_loss: 0.0276 - dense_acc: 0.9563 - dense_1_acc: 0.9909 - dense_2_acc: 0.9793 - dense_3_acc: 0.9973 - dense_4_acc: 0.9732 - dense_5_acc: 0.9923\n",
      "Epoch 10/20\n",
      "2494/2494 [==============================] - 17s 7ms/step - loss: 0.3261 - dense_loss: 0.1249 - dense_1_loss: 0.0238 - dense_2_loss: 0.0645 - dense_3_loss: 0.0101 - dense_4_loss: 0.0753 - dense_5_loss: 0.0274 - dense_acc: 0.9566 - dense_1_acc: 0.9909 - dense_2_acc: 0.9795 - dense_3_acc: 0.9973 - dense_4_acc: 0.9733 - dense_5_acc: 0.9923\n",
      "Epoch 11/20\n",
      "2494/2494 [==============================] - 17s 7ms/step - loss: 0.3249 - dense_loss: 0.1245 - dense_1_loss: 0.0237 - dense_2_loss: 0.0647 - dense_3_loss: 0.0101 - dense_4_loss: 0.0750 - dense_5_loss: 0.0269 - dense_acc: 0.9568 - dense_1_acc: 0.9909 - dense_2_acc: 0.9797 - dense_3_acc: 0.9973 - dense_4_acc: 0.9734 - dense_5_acc: 0.9923\n",
      "Epoch 12/20\n",
      "2494/2494 [==============================] - 17s 7ms/step - loss: 0.3236 - dense_loss: 0.1240 - dense_1_loss: 0.0236 - dense_2_loss: 0.0644 - dense_3_loss: 0.0100 - dense_4_loss: 0.0747 - dense_5_loss: 0.0268 - dense_acc: 0.9569 - dense_1_acc: 0.9910 - dense_2_acc: 0.9795 - dense_3_acc: 0.9974 - dense_4_acc: 0.9733 - dense_5_acc: 0.9923\n",
      "Epoch 13/20\n",
      "2494/2494 [==============================] - 16s 7ms/step - loss: 0.3226 - dense_loss: 0.1235 - dense_1_loss: 0.0237 - dense_2_loss: 0.0641 - dense_3_loss: 0.0099 - dense_4_loss: 0.0745 - dense_5_loss: 0.0268 - dense_acc: 0.9570 - dense_1_acc: 0.9910 - dense_2_acc: 0.9797 - dense_3_acc: 0.9973 - dense_4_acc: 0.9735 - dense_5_acc: 0.9924\n",
      "Epoch 14/20\n",
      "2494/2494 [==============================] - 16s 7ms/step - loss: 0.3218 - dense_loss: 0.1232 - dense_1_loss: 0.0235 - dense_2_loss: 0.0642 - dense_3_loss: 0.0098 - dense_4_loss: 0.0743 - dense_5_loss: 0.0269 - dense_acc: 0.9568 - dense_1_acc: 0.9909 - dense_2_acc: 0.9794 - dense_3_acc: 0.9975 - dense_4_acc: 0.9738 - dense_5_acc: 0.9925\n",
      "Epoch 15/20\n",
      "2494/2494 [==============================] - 19s 7ms/step - loss: 0.3217 - dense_loss: 0.1235 - dense_1_loss: 0.0234 - dense_2_loss: 0.0642 - dense_3_loss: 0.0097 - dense_4_loss: 0.0741 - dense_5_loss: 0.0267 - dense_acc: 0.9568 - dense_1_acc: 0.9909 - dense_2_acc: 0.9795 - dense_3_acc: 0.9974 - dense_4_acc: 0.9739 - dense_5_acc: 0.9924\n",
      "Epoch 16/20\n",
      "2494/2494 [==============================] - 19s 8ms/step - loss: 0.3212 - dense_loss: 0.1232 - dense_1_loss: 0.0235 - dense_2_loss: 0.0643 - dense_3_loss: 0.0095 - dense_4_loss: 0.0739 - dense_5_loss: 0.0267 - dense_acc: 0.9569 - dense_1_acc: 0.9911 - dense_2_acc: 0.9794 - dense_3_acc: 0.9974 - dense_4_acc: 0.9740 - dense_5_acc: 0.9924\n",
      "Epoch 17/20\n",
      "2494/2494 [==============================] - 17s 7ms/step - loss: 0.3206 - dense_loss: 0.1228 - dense_1_loss: 0.0234 - dense_2_loss: 0.0639 - dense_3_loss: 0.0097 - dense_4_loss: 0.0741 - dense_5_loss: 0.0267 - dense_acc: 0.9569 - dense_1_acc: 0.9910 - dense_2_acc: 0.9796 - dense_3_acc: 0.9974 - dense_4_acc: 0.9740 - dense_5_acc: 0.9924\n",
      "Epoch 18/20\n",
      "2494/2494 [==============================] - 17s 7ms/step - loss: 0.3204 - dense_loss: 0.1231 - dense_1_loss: 0.0234 - dense_2_loss: 0.0637 - dense_3_loss: 0.0097 - dense_4_loss: 0.0739 - dense_5_loss: 0.0266 - dense_acc: 0.9574 - dense_1_acc: 0.9912 - dense_2_acc: 0.9796 - dense_3_acc: 0.9974 - dense_4_acc: 0.9736 - dense_5_acc: 0.9923\n",
      "Epoch 19/20\n",
      "2494/2494 [==============================] - 17s 7ms/step - loss: 0.3203 - dense_loss: 0.1230 - dense_1_loss: 0.0234 - dense_2_loss: 0.0637 - dense_3_loss: 0.0095 - dense_4_loss: 0.0740 - dense_5_loss: 0.0267 - dense_acc: 0.9568 - dense_1_acc: 0.9909 - dense_2_acc: 0.9797 - dense_3_acc: 0.9975 - dense_4_acc: 0.9735 - dense_5_acc: 0.9924\n",
      "Epoch 20/20\n",
      "2494/2494 [==============================] - 16s 6ms/step - loss: 0.3194 - dense_loss: 0.1226 - dense_1_loss: 0.0234 - dense_2_loss: 0.0634 - dense_3_loss: 0.0098 - dense_4_loss: 0.0736 - dense_5_loss: 0.0266 - dense_acc: 0.9574 - dense_1_acc: 0.9910 - dense_2_acc: 0.9798 - dense_3_acc: 0.9974 - dense_4_acc: 0.9738 - dense_5_acc: 0.9924\n"
     ]
    }
   ],
   "source": [
    "history = model.fit([x_train], y_train, epochs=25, batch_size=64)"
   ]
  },
  {
   "cell_type": "code",
   "execution_count": 13,
   "id": "3f8b1259",
   "metadata": {},
   "outputs": [],
   "source": [
    "result = model.predict([x_test], 32)"
   ]
  },
  {
   "cell_type": "code",
   "execution_count": 14,
   "id": "fd8e888a",
   "metadata": {},
   "outputs": [],
   "source": [
    "result = np.array(result)\n",
    "result = result.reshape(6, 153164)\n",
    "result = result.T"
   ]
  },
  {
   "cell_type": "code",
   "execution_count": 15,
   "id": "d630d60d",
   "metadata": {},
   "outputs": [
    {
     "data": {
      "text/html": [
       "<div>\n",
       "<style scoped>\n",
       "    .dataframe tbody tr th:only-of-type {\n",
       "        vertical-align: middle;\n",
       "    }\n",
       "\n",
       "    .dataframe tbody tr th {\n",
       "        vertical-align: top;\n",
       "    }\n",
       "\n",
       "    .dataframe thead th {\n",
       "        text-align: right;\n",
       "    }\n",
       "</style>\n",
       "<table border=\"1\" class=\"dataframe\">\n",
       "  <thead>\n",
       "    <tr style=\"text-align: right;\">\n",
       "      <th></th>\n",
       "      <th>toxic</th>\n",
       "      <th>severe_toxic</th>\n",
       "      <th>obscene</th>\n",
       "      <th>threat</th>\n",
       "      <th>insult</th>\n",
       "      <th>identity_hate</th>\n",
       "    </tr>\n",
       "    <tr>\n",
       "      <th>id</th>\n",
       "      <th></th>\n",
       "      <th></th>\n",
       "      <th></th>\n",
       "      <th></th>\n",
       "      <th></th>\n",
       "      <th></th>\n",
       "    </tr>\n",
       "  </thead>\n",
       "  <tbody>\n",
       "    <tr>\n",
       "      <th>00001cee341fdb12</th>\n",
       "      <td>0.964374</td>\n",
       "      <td>0.155389</td>\n",
       "      <td>0.919356</td>\n",
       "      <td>8.093838e-03</td>\n",
       "      <td>0.854456</td>\n",
       "      <td>0.078526</td>\n",
       "    </tr>\n",
       "    <tr>\n",
       "      <th>0000247867823ef7</th>\n",
       "      <td>0.003424</td>\n",
       "      <td>0.000032</td>\n",
       "      <td>0.000836</td>\n",
       "      <td>8.670717e-07</td>\n",
       "      <td>0.000456</td>\n",
       "      <td>0.000035</td>\n",
       "    </tr>\n",
       "    <tr>\n",
       "      <th>00013b17ad220c46</th>\n",
       "      <td>0.002997</td>\n",
       "      <td>0.000095</td>\n",
       "      <td>0.000705</td>\n",
       "      <td>1.520311e-05</td>\n",
       "      <td>0.000477</td>\n",
       "      <td>0.000166</td>\n",
       "    </tr>\n",
       "    <tr>\n",
       "      <th>00017563c3f7919a</th>\n",
       "      <td>0.001874</td>\n",
       "      <td>0.000023</td>\n",
       "      <td>0.000611</td>\n",
       "      <td>4.940818e-06</td>\n",
       "      <td>0.000404</td>\n",
       "      <td>0.000071</td>\n",
       "    </tr>\n",
       "    <tr>\n",
       "      <th>00017695ad8997eb</th>\n",
       "      <td>0.033319</td>\n",
       "      <td>0.000455</td>\n",
       "      <td>0.007053</td>\n",
       "      <td>3.400265e-04</td>\n",
       "      <td>0.003800</td>\n",
       "      <td>0.000341</td>\n",
       "    </tr>\n",
       "    <tr>\n",
       "      <th>...</th>\n",
       "      <td>...</td>\n",
       "      <td>...</td>\n",
       "      <td>...</td>\n",
       "      <td>...</td>\n",
       "      <td>...</td>\n",
       "      <td>...</td>\n",
       "    </tr>\n",
       "    <tr>\n",
       "      <th>fffcd0960ee309b5</th>\n",
       "      <td>0.675277</td>\n",
       "      <td>0.002947</td>\n",
       "      <td>0.265462</td>\n",
       "      <td>2.438026e-04</td>\n",
       "      <td>0.085664</td>\n",
       "      <td>0.005211</td>\n",
       "    </tr>\n",
       "    <tr>\n",
       "      <th>fffd7a9a6eb32c16</th>\n",
       "      <td>0.028768</td>\n",
       "      <td>0.000283</td>\n",
       "      <td>0.006166</td>\n",
       "      <td>6.299827e-05</td>\n",
       "      <td>0.002732</td>\n",
       "      <td>0.000308</td>\n",
       "    </tr>\n",
       "    <tr>\n",
       "      <th>fffda9e8d6fafa9e</th>\n",
       "      <td>0.001542</td>\n",
       "      <td>0.000018</td>\n",
       "      <td>0.000567</td>\n",
       "      <td>1.651945e-06</td>\n",
       "      <td>0.000291</td>\n",
       "      <td>0.000034</td>\n",
       "    </tr>\n",
       "    <tr>\n",
       "      <th>fffe8f1340a79fc2</th>\n",
       "      <td>0.004853</td>\n",
       "      <td>0.000330</td>\n",
       "      <td>0.001881</td>\n",
       "      <td>7.181635e-05</td>\n",
       "      <td>0.001018</td>\n",
       "      <td>0.001234</td>\n",
       "    </tr>\n",
       "    <tr>\n",
       "      <th>ffffce3fb183ee80</th>\n",
       "      <td>0.962541</td>\n",
       "      <td>0.029434</td>\n",
       "      <td>0.909561</td>\n",
       "      <td>1.497231e-03</td>\n",
       "      <td>0.602762</td>\n",
       "      <td>0.017125</td>\n",
       "    </tr>\n",
       "  </tbody>\n",
       "</table>\n",
       "<p>153164 rows × 6 columns</p>\n",
       "</div>"
      ],
      "text/plain": [
       "                     toxic  severe_toxic   obscene        threat    insult  \\\n",
       "id                                                                           \n",
       "00001cee341fdb12  0.964374      0.155389  0.919356  8.093838e-03  0.854456   \n",
       "0000247867823ef7  0.003424      0.000032  0.000836  8.670717e-07  0.000456   \n",
       "00013b17ad220c46  0.002997      0.000095  0.000705  1.520311e-05  0.000477   \n",
       "00017563c3f7919a  0.001874      0.000023  0.000611  4.940818e-06  0.000404   \n",
       "00017695ad8997eb  0.033319      0.000455  0.007053  3.400265e-04  0.003800   \n",
       "...                    ...           ...       ...           ...       ...   \n",
       "fffcd0960ee309b5  0.675277      0.002947  0.265462  2.438026e-04  0.085664   \n",
       "fffd7a9a6eb32c16  0.028768      0.000283  0.006166  6.299827e-05  0.002732   \n",
       "fffda9e8d6fafa9e  0.001542      0.000018  0.000567  1.651945e-06  0.000291   \n",
       "fffe8f1340a79fc2  0.004853      0.000330  0.001881  7.181635e-05  0.001018   \n",
       "ffffce3fb183ee80  0.962541      0.029434  0.909561  1.497231e-03  0.602762   \n",
       "\n",
       "                  identity_hate  \n",
       "id                               \n",
       "00001cee341fdb12       0.078526  \n",
       "0000247867823ef7       0.000035  \n",
       "00013b17ad220c46       0.000166  \n",
       "00017563c3f7919a       0.000071  \n",
       "00017695ad8997eb       0.000341  \n",
       "...                         ...  \n",
       "fffcd0960ee309b5       0.005211  \n",
       "fffd7a9a6eb32c16       0.000308  \n",
       "fffda9e8d6fafa9e       0.000034  \n",
       "fffe8f1340a79fc2       0.001234  \n",
       "ffffce3fb183ee80       0.017125  \n",
       "\n",
       "[153164 rows x 6 columns]"
      ]
     },
     "execution_count": 15,
     "metadata": {},
     "output_type": "execute_result"
    }
   ],
   "source": [
    "df_ans = pd.DataFrame(result, columns=ans_columns)\n",
    "df_ans.index = df_test['id']\n",
    "df_ans"
   ]
  },
  {
   "cell_type": "code",
   "execution_count": 16,
   "id": "0e693095",
   "metadata": {},
   "outputs": [],
   "source": [
    "df_ans.to_csv('ans.csv')"
   ]
  },
  {
   "cell_type": "code",
   "execution_count": null,
   "id": "ff9e61c2",
   "metadata": {},
   "outputs": [],
   "source": []
  }
 ],
 "metadata": {
  "kernelspec": {
   "display_name": "Python 3 (ipykernel)",
   "language": "python",
   "name": "python3"
  },
  "language_info": {
   "codemirror_mode": {
    "name": "ipython",
    "version": 3
   },
   "file_extension": ".py",
   "mimetype": "text/x-python",
   "name": "python",
   "nbconvert_exporter": "python",
   "pygments_lexer": "ipython3",
   "version": "3.10.1"
  }
 },
 "nbformat": 4,
 "nbformat_minor": 5
}
